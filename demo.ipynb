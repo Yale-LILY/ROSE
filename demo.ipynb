{
 "cells": [
  {
   "cell_type": "code",
   "execution_count": null,
   "metadata": {},
   "outputs": [],
   "source": [
    "%pip install datasets\n",
    "%pip install py7zr\n",
    "%pip install tabulate\n",
    "%pip install numpy"
   ]
  },
  {
   "cell_type": "code",
   "execution_count": 18,
   "metadata": {},
   "outputs": [],
   "source": [
    "from datasets import load_dataset\n",
    "import json\n",
    "from tabulate import tabulate\n",
    "import numpy as np"
   ]
  },
  {
   "cell_type": "markdown",
   "metadata": {},
   "source": [
    "# Load ACU Datasets"
   ]
  },
  {
   "cell_type": "code",
   "execution_count": null,
   "metadata": {},
   "outputs": [],
   "source": [
    "cnndm_test = load_dataset(\"Salesforce/rose\", \"cnndm_test\", use_auth_token=AUTH_TOKEN)[\"data\"]\n",
    "cnndm_val = load_dataset(\"Salesforce/rose\", \"cnndm_validation\", use_auth_token=AUTH_TOKEN)[\"data\"]\n",
    "# xsum = load_dataset(\"Salesforce/rose\", \"xsum\", use_auth_token=AUTH_TOKEN, download_mode=\"force_redownload\")[\"data\"]\n",
    "samsum = load_dataset(\"Salesforce/rose\", \"samsum\", use_auth_token=AUTH_TOKEN)[\"data\"]\n",
    "cnndm_protocol = load_dataset(\"Salesforce/rose\", \"cnndm_protocol\", use_auth_token=AUTH_TOKEN)[\"data\"]\n",
    "cnndm_protocol_gpt3 = load_dataset(\"Salesforce/rose\", \"cnndm_protocol_gpt3\", use_auth_token=AUTH_TOKEN)[\"data\"]"
   ]
  },
  {
   "cell_type": "markdown",
   "metadata": {},
   "source": [
    "# Check the dataset information of the ACU annotations on CNNDM"
   ]
  },
  {
   "cell_type": "code",
   "execution_count": 7,
   "metadata": {},
   "outputs": [
    {
     "name": "stdout",
     "output_type": "stream",
     "text": [
      "Dataset({\n",
      "    features: ['source', 'reference', 'reference_acus', 'count_id', 'example_id', 'annotations', 'system_outputs'],\n",
      "    num_rows: 500\n",
      "})\n"
     ]
    }
   ],
   "source": [
    "print(cnndm_test)"
   ]
  },
  {
   "cell_type": "markdown",
   "metadata": {},
   "source": [
    "# Check an example of ACU annotations"
   ]
  },
  {
   "cell_type": "code",
   "execution_count": 10,
   "metadata": {},
   "outputs": [
    {
     "name": "stdout",
     "output_type": "stream",
     "text": [
      "{\n",
      "  \"source\": \"West Ham wonderkid Reece Oxford pushed himself closer to a long-awaited first-team debut after scoring for the Under 21s against Manchester United. The 16-year-old, who has been on the bench for the senior side this season, scored with a header in the Hammers 3-2 defeat against the Red Devils on Tuesday night. The goal will push Oxford's claims for a senior debut before the end of the season. Reece Oxford, pictured here earlier in the season, has moved closer to a first-team debut for West Ham . Oxford scored for West Ham's under 21 team in their 3-2 defeat to Manchester United on Tuesday night . Oxford signed his first professional contract earlier this season, snubbing interest from all of the Premier League's big guns. The central defender, who has been likened to Rio Ferdinand, has tipped to be a future England international. Oxford regularly trains with the first team and is hopeful Sam Allardyce will give him his first team debut before the end of campaign.\",\n",
      "  \"reference\": \"Oxford scored for under 21 side in 3-2 loss to Man United on Tuesday .\\nThe goal will push 16-year-old's claim for a first-team debut .\\nCentre-back has trained with West Ham first team this season .\\nCLICK HERE for the latest West Ham United news .\",\n",
      "  \"reference_acus\": [\n",
      "    \"Oxford scored in 3-2 loss to Man United\",\n",
      "    \"Oxford scored in 3-2 loss to Man United on Tuesday\",\n",
      "    \"Oxford scored for under 21 side in 3-2 loss to Man United\",\n",
      "    \"The goal will push 16-year-old's claim\",\n",
      "    \"The goal will push 16-year-old's claim for a first-team debut\",\n",
      "    \"Centre-back first team this season\",\n",
      "    \"Centre-back has trained with West Ham first team this season\",\n",
      "    \"CLICK HERE for the latest West Ham United news\"\n",
      "  ],\n",
      "  \"count_id\": 53,\n",
      "  \"example_id\": \"012acd391afd69e0511aa9151ce6034e6b1485ff\",\n",
      "  \"annotations\": {\n",
      "    \"bart\": {\n",
      "      \"acu_labels\": [\n",
      "        0,\n",
      "        0,\n",
      "        0,\n",
      "        0,\n",
      "        0,\n",
      "        0,\n",
      "        0,\n",
      "        0\n",
      "      ],\n",
      "      \"acu\": 0.0,\n",
      "      \"normalized_acu\": 0.0\n",
      "    },\n",
      "    \"gold\": {\n",
      "      \"acu_labels\": [\n",
      "        1,\n",
      "        0,\n",
      "        1,\n",
      "        0,\n",
      "        0,\n",
      "        0,\n",
      "        0,\n",
      "        0\n",
      "      ],\n",
      "      \"acu\": 0.25,\n",
      "      \"normalized_acu\": 0.25\n",
      "    },\n",
      "    \"pegasus\": {\n",
      "      \"acu_labels\": [\n",
      "        0,\n",
      "        0,\n",
      "        0,\n",
      "        1,\n",
      "        1,\n",
      "        0,\n",
      "        0,\n",
      "        0\n",
      "      ],\n",
      "      \"acu\": 0.25,\n",
      "      \"normalized_acu\": 0.25\n",
      "    },\n",
      "    \"brio\": {\n",
      "      \"acu_labels\": [\n",
      "        1,\n",
      "        1,\n",
      "        1,\n",
      "        0,\n",
      "        0,\n",
      "        0,\n",
      "        0,\n",
      "        0\n",
      "      ],\n",
      "      \"acu\": 0.375,\n",
      "      \"normalized_acu\": 0.3379031717777252\n",
      "    },\n",
      "    \"gsum\": {\n",
      "      \"acu_labels\": [\n",
      "        1,\n",
      "        0,\n",
      "        1,\n",
      "        0,\n",
      "        0,\n",
      "        0,\n",
      "        0,\n",
      "        1\n",
      "      ],\n",
      "      \"acu\": 0.375,\n",
      "      \"normalized_acu\": 0.3559686541557312\n",
      "    },\n",
      "    \"simcls\": {\n",
      "      \"acu_labels\": [\n",
      "        0,\n",
      "        0,\n",
      "        0,\n",
      "        1,\n",
      "        1,\n",
      "        0,\n",
      "        0,\n",
      "        0\n",
      "      ],\n",
      "      \"acu\": 0.25,\n",
      "      \"normalized_acu\": 0.2373124361038208\n",
      "    },\n",
      "    \"cliff\": {\n",
      "      \"acu_labels\": [\n",
      "        1,\n",
      "        0,\n",
      "        0,\n",
      "        0,\n",
      "        0,\n",
      "        0,\n",
      "        0,\n",
      "        0\n",
      "      ],\n",
      "      \"acu\": 0.125,\n",
      "      \"normalized_acu\": 0.125\n",
      "    },\n",
      "    \"ctrlsum\": {\n",
      "      \"acu_labels\": [\n",
      "        1,\n",
      "        1,\n",
      "        1,\n",
      "        0,\n",
      "        0,\n",
      "        0,\n",
      "        0,\n",
      "        0\n",
      "      ],\n",
      "      \"acu\": 0.375,\n",
      "      \"normalized_acu\": 0.33440160751342773\n",
      "    },\n",
      "    \"frost\": {\n",
      "      \"acu_labels\": [\n",
      "        0,\n",
      "        0,\n",
      "        0,\n",
      "        0,\n",
      "        0,\n",
      "        0,\n",
      "        0,\n",
      "        0\n",
      "      ],\n",
      "      \"acu\": 0.0,\n",
      "      \"normalized_acu\": 0.0\n",
      "    },\n",
      "    \"glob\": {\n",
      "      \"acu_labels\": [\n",
      "        0,\n",
      "        0,\n",
      "        0,\n",
      "        0,\n",
      "        0,\n",
      "        0,\n",
      "        0,\n",
      "        0\n",
      "      ],\n",
      "      \"acu\": 0.0,\n",
      "      \"normalized_acu\": 0.0\n",
      "    },\n",
      "    \"matchsum\": {\n",
      "      \"acu_labels\": [\n",
      "        1,\n",
      "        1,\n",
      "        1,\n",
      "        1,\n",
      "        1,\n",
      "        0,\n",
      "        0,\n",
      "        0\n",
      "      ],\n",
      "      \"acu\": 0.625,\n",
      "      \"normalized_acu\": 0.47671476006507874\n",
      "    },\n",
      "    \"brio-ext\": {\n",
      "      \"acu_labels\": [\n",
      "        1,\n",
      "        1,\n",
      "        1,\n",
      "        0,\n",
      "        0,\n",
      "        0,\n",
      "        0,\n",
      "        0\n",
      "      ],\n",
      "      \"acu\": 0.375,\n",
      "      \"normalized_acu\": 0.33440160751342773\n",
      "    }\n",
      "  },\n",
      "  \"system_outputs\": {\n",
      "    \"bart\": \"Reece Oxford scored for West Ham Under 21s against Manchester United. The 16-year-old has been on the bench for the senior side this season. Oxford signed his first professional contract earlier this season, snubbing interest from all of the Premier League's big guns.\",\n",
      "    \"gold\": \"Reece Oxford scored for West Ham's Under 21s in their 3-2 defeat to Manchester United. The 16-year-old has been on the bench for the senior side this season. The defender has been likened to Rio Ferdinand and is a future England international.\",\n",
      "    \"pegasus\": \"Reece Oxford scored for West Ham Under 21s against Manchester United. The 16-year-old has been on the bench for the senior side this season. The goal will push Oxford's claims for a first-team debut before the end of the season.\",\n",
      "    \"brio\": \"Reece Oxford scored for West Ham's Under 21s against Manchester United on Tuesday night. The 16-year-old has been on the bench for the Hammers this season. Oxford scored with a header in the 3-2 defeat to the Red Devils\\u00a0. The defender is pushing for a first-team debut before the end of the season.\",\n",
      "    \"gsum\": \"Reece Oxford scored for West Ham's under 21 team in their 3-2 defeat to Manchester United. The 16-year-old has been on the bench for the Hammers this season. Oxford has been tipped to be a future England international\\u00a0. CLICK HERE for all the latest West Ham United news\\u00a0.\",\n",
      "    \"simcls\": \"16-year-old Reece Oxford scored against Manchester United on Tuesday night. The goal will push Oxford closer to a first-team debut for West Ham. The central defender signed his first professional contract earlier this season. Oxford has been likened to Rio Ferdinand and is tipped to be an England international.\",\n",
      "    \"cliff\": \"Reece Oxford scored in West Ham's 3-2 defeat to Manchester United. The 16-year-old has been on the bench for the senior side this season. Oxford signed his first professional contract earlier this season\\u00a0. The central defender has been likened to Rio Ferdinand\\u00a0.\",\n",
      "    \"ctrlsum\": \"Reece Oxford scored for West Ham's Under 21s against Manchester United. The 16-year-old scored with a header in the Hammers' 3-2 defeat on Tuesday. Oxford signed his first professional contract earlier this season. He has been on the bench for the senior team this season . Click here for more West Ham news .\",\n",
      "    \"frost\": \"Reece Oxford signed for West Ham earlier this season . The 16-year-old has been on the bench for the first team this season . Oxford scored for the Under 21s against Manchester United on Tuesday .\",\n",
      "    \"glob\": \"Reece Oxford scored for West Ham Under 21s against Manchester United. The 16-year-old has been on the bench for the senior side this season. Oxford signed his first professional contract earlier this season.\",\n",
      "    \"matchsum\": \"West Ham wonderkid Reece Oxford pushed himself closer to a long-awaited first-team debut after scoring for the Under 21s against Manchester United. The 16-year-old, who has been on the bench for the senior side this season, scored with a header in the Hammers 3-2 defeat against the Red Devils on Tuesday night. The goal will push Oxford's claims for a senior debut before the end of the season.\",\n",
      "    \"brio-ext\": \"The goal will push Oxford's claims for a senior debut before the end of the season. Reece Oxford, pictured here earlier in the season, has moved closer to a first-team debut for West Ham. Oxford scored for West Ham's under 21 team in their 3-2 defeat to Manchester United on Tuesday night.\"\n",
      "  }\n",
      "}\n"
     ]
    }
   ],
   "source": [
    "print(json.dumps(cnndm_test[0], indent=2))"
   ]
  },
  {
   "cell_type": "markdown",
   "metadata": {},
   "source": [
    "# Check the available systems"
   ]
  },
  {
   "cell_type": "code",
   "execution_count": 11,
   "metadata": {},
   "outputs": [
    {
     "name": "stdout",
     "output_type": "stream",
     "text": [
      "dict_keys(['bart', 'gold', 'pegasus', 'brio', 'gsum', 'simcls', 'cliff', 'ctrlsum', 'frost', 'glob', 'matchsum', 'brio-ext'])\n"
     ]
    }
   ],
   "source": [
    "print(cnndm_test[0][\"annotations\"].keys())"
   ]
  },
  {
   "cell_type": "markdown",
   "metadata": {},
   "source": [
    "# Check the available annotations "
   ]
  },
  {
   "cell_type": "code",
   "execution_count": 12,
   "metadata": {},
   "outputs": [
    {
     "name": "stdout",
     "output_type": "stream",
     "text": [
      "dict_keys(['acu_labels', 'acu', 'normalized_acu'])\n"
     ]
    }
   ],
   "source": [
    "print(cnndm_test[0][\"annotations\"][\"brio\"].keys())"
   ]
  },
  {
   "cell_type": "markdown",
   "metadata": {},
   "source": [
    "# Calculate the average ACU scores of each system"
   ]
  },
  {
   "cell_type": "code",
   "execution_count": 23,
   "metadata": {},
   "outputs": [
    {
     "name": "stdout",
     "output_type": "stream",
     "text": [
      "System      ACU Score\n",
      "--------  -----------\n",
      "ctrlsum      0.445805\n",
      "gsum         0.444687\n",
      "brio         0.440345\n",
      "matchsum     0.425005\n",
      "brio-ext     0.417233\n",
      "simcls       0.404669\n",
      "bart         0.38832\n",
      "cliff        0.385072\n",
      "frost        0.384386\n",
      "gold         0.381019\n",
      "pegasus      0.375578\n",
      "glob         0.364016\n"
     ]
    }
   ],
   "source": [
    "systems = list(cnndm_test[0][\"annotations\"].keys())\n",
    "system_scores = [(system, np.mean([x[\"annotations\"][system][\"acu\"] for x in cnndm_test]).item()) for system in systems]\n",
    "system_scores = sorted(system_scores, key=lambda x: x[1], reverse=True)\n",
    "print(tabulate(system_scores, headers=[\"System\", \"ACU Score\"]))"
   ]
  },
  {
   "cell_type": "markdown",
   "metadata": {},
   "source": [
    "# Calculate the average *normalized* ACU scores of each system"
   ]
  },
  {
   "cell_type": "code",
   "execution_count": 24,
   "metadata": {},
   "outputs": [
    {
     "name": "stdout",
     "output_type": "stream",
     "text": [
      "System      ACU Score\n",
      "--------  -----------\n",
      "brio         0.371826\n",
      "ctrlsum      0.36131\n",
      "simcls       0.359992\n",
      "gsum         0.348765\n",
      "glob         0.340702\n",
      "gold         0.33799\n",
      "frost        0.336847\n",
      "matchsum     0.336829\n",
      "brio-ext     0.335767\n",
      "cliff        0.329551\n",
      "bart         0.323364\n",
      "pegasus      0.319942\n"
     ]
    }
   ],
   "source": [
    "systems = list(cnndm_test[0][\"annotations\"].keys())\n",
    "system_scores = [(system, np.mean([x[\"annotations\"][system][\"normalized_acu\"] for x in cnndm_test]).item()) for system in systems]\n",
    "system_scores = sorted(system_scores, key=lambda x: x[1], reverse=True)\n",
    "print(tabulate(system_scores, headers=[\"System\", \"ACU Score\"]))"
   ]
  }
 ],
 "metadata": {
  "kernelspec": {
   "display_name": "Python 3.8.13",
   "language": "python",
   "name": "python3"
  },
  "language_info": {
   "codemirror_mode": {
    "name": "ipython",
    "version": 3
   },
   "file_extension": ".py",
   "mimetype": "text/x-python",
   "name": "python",
   "nbconvert_exporter": "python",
   "pygments_lexer": "ipython3",
   "version": "3.8.15"
  },
  "orig_nbformat": 4,
  "vscode": {
   "interpreter": {
    "hash": "d7b4bcbf811fc4a457764a5f588308179c6b9c0f4014dfbd06b360129055ca21"
   }
  }
 },
 "nbformat": 4,
 "nbformat_minor": 2
}
