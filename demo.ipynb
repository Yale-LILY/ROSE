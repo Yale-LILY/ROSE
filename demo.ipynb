{
 "cells": [
  {
   "cell_type": "code",
   "execution_count": null,
   "metadata": {},
   "outputs": [],
   "source": [
    "%pip install datasets\n",
    "%pip install py7zr\n",
    "%pip install tabulate\n",
    "%pip install numpy"
   ]
  },
  {
   "cell_type": "code",
   "execution_count": null,
   "metadata": {},
   "outputs": [],
   "source": [
    "from datasets import load_dataset\n",
    "import json\n",
    "from tabulate import tabulate\n",
    "import numpy as np"
   ]
  },
  {
   "cell_type": "markdown",
   "metadata": {},
   "source": [
    "# Load ACU Datasets"
   ]
  },
  {
   "cell_type": "code",
   "execution_count": null,
   "metadata": {},
   "outputs": [],
   "source": [
    "cnndm_test = load_dataset(\"Salesforce/rose\", \"cnndm_test\")[\"data\"]\n",
    "cnndm_val = load_dataset(\"Salesforce/rose\", \"cnndm_validation\")[\"data\"]\n",
    "xsum = load_dataset(\"Salesforce/rose\", \"xsum\")[\"data\"]\n",
    "samsum = load_dataset(\"Salesforce/rose\", \"samsum\")[\"data\"]\n",
    "cnndm_protocol = load_dataset(\"Salesforce/rose\", \"cnndm_protocol\")[\"data\"]\n",
    "cnndm_protocol_gpt3 = load_dataset(\"Salesforce/rose\", \"cnndm_protocol_gpt3\")[\"data\"]"
   ]
  },
  {
   "cell_type": "markdown",
   "metadata": {},
   "source": [
    "# Human Annotations with ACU Protocol\n",
    "## Check the dataset information of the ACU annotations on CNNDM"
   ]
  },
  {
   "cell_type": "code",
   "execution_count": 7,
   "metadata": {},
   "outputs": [
    {
     "name": "stdout",
     "output_type": "stream",
     "text": [
      "Dataset({\n",
      "    features: ['source', 'reference', 'reference_acus', 'count_id', 'example_id', 'annotations', 'system_outputs'],\n",
      "    num_rows: 500\n",
      "})\n"
     ]
    }
   ],
   "source": [
    "print(cnndm_test)"
   ]
  },
  {
   "cell_type": "markdown",
   "metadata": {},
   "source": [
    "## Check an example of ACU annotations"
   ]
  },
  {
   "cell_type": "code",
   "execution_count": 8,
   "metadata": {},
   "outputs": [
    {
     "name": "stdout",
     "output_type": "stream",
     "text": [
      "{\n",
      "  \"source\": \"Club Tijuana star Juan Arango conjured memories Luis Suarez in his team's 4-3 defeat by Monterrey in the Mexican league - but it was not through prodigious scoring. The Venezuelan icon Arango sank his teeth into the shoulder of Jesus Zavela as his temper flared in the defeat. He was not booked by the referee but could face a heavy retrospective ban. Juan Arango (left) bites the shoulder of opponent Jesus Zavela in a moment of madness . Zavala holds his shoulder after being bitten by Arango, in the game Zavala's side won 4-3 in Mexico . Zavala shows the referee the mark on his shoulder after being bittern by Arango . Arango (right) earlier scored a magnificent free kick to bring his Club Tijuana team level against Monterrey . Arango had earlier curled in a magnificent free kick for his team to bring them level after falling 2-0 down early on in the encounter. But the 34-year-old overshadowed his goal with the bite as television cameras picked up the moment of madness. Arango spent 10 years playing in Europe, spending five seasons each at Real Mallorca in Spain and Borussia Monchengladbach in Germany. He has made 121 appearances for Venezuela.\",\n",
      "  \"reference\": \"Juan Arango escaped punishment from the referee for biting Jesus Zavela .\\nHe could face a retrospective punishment for the incident .\\nArango had earlier scored a free kick in his team's 4-3 defeat .\",\n",
      "  \"reference_acus\": [\n",
      "    \"Juan Arango escaped punishment.\",\n",
      "    \"Juan Arango bit Jesus Zavela.\",\n",
      "    \"Juan Arango escaped punishment from the referee\",\n",
      "    \"Arango could face a retrospective punishment.\",\n",
      "    \"Arango could face a retrospective punishment for the incident\",\n",
      "    \"Arango had eariler scored a free kick.\",\n",
      "    \"Arango scored for his team.\",\n",
      "    \"Arango had a defeat.\",\n",
      "    \"Arango's team suffered a defeat\",\n",
      "    \"Arango's team suffered a 4-3 defeat\"\n",
      "  ],\n",
      "  \"count_id\": 0,\n",
      "  \"example_id\": \"000571afe702684d90c1d222ce70b1e1375c1016\",\n",
      "  \"annotations\": {\n",
      "    \"bart\": {\n",
      "      \"acu_labels\": [\n",
      "        1,\n",
      "        1,\n",
      "        1,\n",
      "        1,\n",
      "        1,\n",
      "        1,\n",
      "        1,\n",
      "        1,\n",
      "        1,\n",
      "        1\n",
      "      ],\n",
      "      \"acu\": 1.0,\n",
      "      \"normalized_acu\": 0.5503382086753845\n",
      "    },\n",
      "    \"gold\": {\n",
      "      \"acu_labels\": [\n",
      "        0,\n",
      "        1,\n",
      "        0,\n",
      "        1,\n",
      "        1,\n",
      "        0,\n",
      "        0,\n",
      "        0,\n",
      "        0,\n",
      "        0\n",
      "      ],\n",
      "      \"acu\": 0.30000001192092896,\n",
      "      \"normalized_acu\": 0.2684518098831177\n",
      "    },\n",
      "    \"pegasus\": {\n",
      "      \"acu_labels\": [\n",
      "        0,\n",
      "        0,\n",
      "        0,\n",
      "        1,\n",
      "        0,\n",
      "        1,\n",
      "        1,\n",
      "        0,\n",
      "        0,\n",
      "        0\n",
      "      ],\n",
      "      \"acu\": 0.30000001192092896,\n",
      "      \"normalized_acu\": 0.30000001192092896\n",
      "    },\n",
      "    \"brio\": {\n",
      "      \"acu_labels\": [\n",
      "        0,\n",
      "        1,\n",
      "        0,\n",
      "        1,\n",
      "        1,\n",
      "        1,\n",
      "        1,\n",
      "        1,\n",
      "        1,\n",
      "        1\n",
      "      ],\n",
      "      \"acu\": 0.800000011920929,\n",
      "      \"normalized_acu\": 0.6230406165122986\n",
      "    },\n",
      "    \"gsum\": {\n",
      "      \"acu_labels\": [\n",
      "        0,\n",
      "        1,\n",
      "        1,\n",
      "        1,\n",
      "        1,\n",
      "        1,\n",
      "        1,\n",
      "        1,\n",
      "        1,\n",
      "        1\n",
      "      ],\n",
      "      \"acu\": 0.8999999761581421,\n",
      "      \"normalized_acu\": 0.5933165550231934\n",
      "    },\n",
      "    \"simcls\": {\n",
      "      \"acu_labels\": [\n",
      "        0,\n",
      "        1,\n",
      "        0,\n",
      "        1,\n",
      "        1,\n",
      "        1,\n",
      "        1,\n",
      "        0,\n",
      "        0,\n",
      "        0\n",
      "      ],\n",
      "      \"acu\": 0.5,\n",
      "      \"normalized_acu\": 0.42324087023735046\n",
      "    },\n",
      "    \"cliff\": {\n",
      "      \"acu_labels\": [\n",
      "        1,\n",
      "        1,\n",
      "        1,\n",
      "        1,\n",
      "        1,\n",
      "        1,\n",
      "        1,\n",
      "        1,\n",
      "        1,\n",
      "        1\n",
      "      ],\n",
      "      \"acu\": 1.0,\n",
      "      \"normalized_acu\": 0.7788007855415344\n",
      "    },\n",
      "    \"ctrlsum\": {\n",
      "      \"acu_labels\": [\n",
      "        0,\n",
      "        1,\n",
      "        1,\n",
      "        1,\n",
      "        1,\n",
      "        1,\n",
      "        0,\n",
      "        0,\n",
      "        1,\n",
      "        1\n",
      "      ],\n",
      "      \"acu\": 0.699999988079071,\n",
      "      \"normalized_acu\": 0.5015718936920166\n",
      "    },\n",
      "    \"frost\": {\n",
      "      \"acu_labels\": [\n",
      "        0,\n",
      "        1,\n",
      "        0,\n",
      "        0,\n",
      "        0,\n",
      "        1,\n",
      "        1,\n",
      "        0,\n",
      "        0,\n",
      "        0\n",
      "      ],\n",
      "      \"acu\": 0.30000001192092896,\n",
      "      \"normalized_acu\": 0.30000001192092896\n",
      "    },\n",
      "    \"glob\": {\n",
      "      \"acu_labels\": [\n",
      "        0,\n",
      "        1,\n",
      "        1,\n",
      "        1,\n",
      "        1,\n",
      "        0,\n",
      "        0,\n",
      "        0,\n",
      "        0,\n",
      "        0\n",
      "      ],\n",
      "      \"acu\": 0.4000000059604645,\n",
      "      \"normalized_acu\": 0.3680177628993988\n",
      "    },\n",
      "    \"matchsum\": {\n",
      "      \"acu_labels\": [\n",
      "        0,\n",
      "        1,\n",
      "        0,\n",
      "        0,\n",
      "        0,\n",
      "        0,\n",
      "        0,\n",
      "        1,\n",
      "        1,\n",
      "        1\n",
      "      ],\n",
      "      \"acu\": 0.4000000059604645,\n",
      "      \"normalized_acu\": 0.33859267830848694\n",
      "    },\n",
      "    \"brio-ext\": {\n",
      "      \"acu_labels\": [\n",
      "        0,\n",
      "        1,\n",
      "        0,\n",
      "        1,\n",
      "        1,\n",
      "        1,\n",
      "        1,\n",
      "        0,\n",
      "        0,\n",
      "        0\n",
      "      ],\n",
      "      \"acu\": 0.5,\n",
      "      \"normalized_acu\": 0.39484646916389465\n",
      "    }\n",
      "  },\n",
      "  \"system_outputs\": {\n",
      "    \"bart\": \"Juan Arango bites Jesus Zavela in a moment of madness in Club Tijuana's 4-3 defeat by Monterrey in the Mexican league. The Venezuelan icon sank his teeth into the shoulder of the opponent as his temper flared in the defeat. He was not booked by the referee but could face a heavy retrospective ban. Arango had earlier curled in a magnificent free kick for his team to bring them level after falling 2-0 down.\",\n",
      "    \"gold\": \"Juan Arango bit Jesus Zavala's shoulder in Club Tijuana's 4-3 defeat by Monterrey. The Venezuelan icon sank his teeth into the shoulder of Jesus Zavela. Arango was not booked by the referee but could face a heavy retrospective ban.\",\n",
      "    \"pegasus\": \"Club Tijuana lost 4-3 to Monterrey in the Mexican league. Juan Arango was not booked but could face a heavy retrospective ban. A Arango free kick had brought his team level at 2-2.\",\n",
      "    \"brio\": \"Juan Arango bites the shoulder of opponent Jesus Zavela in the Mexican league. The Club Tijuana star earlier scored a magnificent free kick to bring his team level against Monterrey\\u00a0. The Venezuelan icon could face a retrospective ban for the bite. Arango's side lost the game 4-3 in Mexico.\",\n",
      "    \"gsum\": \"Juan Arango bites Jesus Zavela in Club Tijuana's 4-3 defeat by Monterrey in the Mexican league. The Venezuelan icon sank his teeth into the shoulder of Jesus Zavala in a moment of madness. He was not booked by the referee but could face a heavy retrospective ban. The 34-year-old had earlier scored a magnificent free kick to bring his team level.\",\n",
      "    \"simcls\": \"Club Tijuana lost 4-3 to Monterrey in the Mexican league on Saturday. Juan Arango bit Jesus Zavela in a moment of madness. The Venezuelan icon could face a heavy retrospective ban. Arango had earlier scored a magnificent free kick to bring his team level.\",\n",
      "    \"cliff\": \"Juan Arango bites Jesus Zavela in Tijuana's 4-3 defeat by Monterrey. The Venezuelan icon sank his teeth into the shoulder of the opponent. He was not booked by the referee but could face a retrospective ban. Arango had earlier scored a magnificent free kick to bring his team level\\u00a0.\",\n",
      "    \"ctrlsum\": \"Juan Arango bit the shoulder of opponent Jesus Zavela in Club Tijuana's 4-3 defeat by Monterrey in the Mexican league. He was not booked by the referee but could face a heavy retrospective ban. Arango had earlier scored a magnificent free kick to bring his team level. CLICK HERE for all the latest Mexico news .\",\n",
      "    \"frost\": \"Juan Arango sank his teeth into the shoulder of Jesus Zavela . Club Tijuana lost 4-3 to Monterrey in the Mexican league . Arango earlier scored a magnificent free kick to bring his team level .\",\n",
      "    \"glob\": \"Juan Arango bit Jesus Zavela in Club Tijuana's 4-3 defeat by Monterrey. The Venezuelan icon sank his teeth into the shoulder of Jesus Zavela. He was not booked by the referee but could face a heavy retrospective ban.\",\n",
      "    \"matchsum\": \"Club Tijuana star Juan Arango conjured memories Luis Suarez in his team's 4-3 defeat by Monterrey in the Mexican league - but it was not through prodigious scoring. Juan Arango (left) bites the shoulder of opponent Jesus Zavela in a moment of madness.\",\n",
      "    \"brio-ext\": \"He was not booked by the referee but could face a heavy retrospective ban. Juan Arango (left) bites the shoulder of opponent Jesus Zavela in a moment of madness. Arango (right) earlier scored a magnificent free kick to bring his Club Tijuana team level against Monterrey.\"\n",
      "  }\n",
      "}\n"
     ]
    }
   ],
   "source": [
    "print(json.dumps(cnndm_test[0], indent=2))"
   ]
  },
  {
   "cell_type": "markdown",
   "metadata": {},
   "source": [
    "## Check the available systems"
   ]
  },
  {
   "cell_type": "code",
   "execution_count": 9,
   "metadata": {},
   "outputs": [
    {
     "name": "stdout",
     "output_type": "stream",
     "text": [
      "dict_keys(['bart', 'gold', 'pegasus', 'brio', 'gsum', 'simcls', 'cliff', 'ctrlsum', 'frost', 'glob', 'matchsum', 'brio-ext'])\n"
     ]
    }
   ],
   "source": [
    "print(cnndm_test[0][\"annotations\"].keys())"
   ]
  },
  {
   "cell_type": "markdown",
   "metadata": {},
   "source": [
    "## Check the available annotations "
   ]
  },
  {
   "cell_type": "code",
   "execution_count": 10,
   "metadata": {},
   "outputs": [
    {
     "name": "stdout",
     "output_type": "stream",
     "text": [
      "dict_keys(['acu_labels', 'acu', 'normalized_acu'])\n"
     ]
    }
   ],
   "source": [
    "print(cnndm_test[0][\"annotations\"][\"brio\"].keys())"
   ]
  },
  {
   "cell_type": "markdown",
   "metadata": {},
   "source": [
    "## Calculate the average ACU scores of each system"
   ]
  },
  {
   "cell_type": "code",
   "execution_count": 11,
   "metadata": {},
   "outputs": [
    {
     "name": "stdout",
     "output_type": "stream",
     "text": [
      "System      ACU Score\n",
      "--------  -----------\n",
      "ctrlsum      0.445805\n",
      "gsum         0.444687\n",
      "brio         0.440345\n",
      "matchsum     0.425005\n",
      "brio-ext     0.417233\n",
      "simcls       0.404669\n",
      "bart         0.38832\n",
      "cliff        0.385072\n",
      "frost        0.384386\n",
      "gold         0.381019\n",
      "pegasus      0.375578\n",
      "glob         0.364016\n"
     ]
    }
   ],
   "source": [
    "systems = list(cnndm_test[0][\"annotations\"].keys())\n",
    "system_scores = [(system, np.mean([x[\"annotations\"][system][\"acu\"] for x in cnndm_test]).item()) for system in systems]\n",
    "system_scores = sorted(system_scores, key=lambda x: x[1], reverse=True)\n",
    "print(tabulate(system_scores, headers=[\"System\", \"ACU Score\"]))"
   ]
  },
  {
   "cell_type": "markdown",
   "metadata": {},
   "source": [
    "## Calculate the average *normalized* ACU scores of each system"
   ]
  },
  {
   "cell_type": "code",
   "execution_count": 12,
   "metadata": {},
   "outputs": [
    {
     "name": "stdout",
     "output_type": "stream",
     "text": [
      "System      ACU Score\n",
      "--------  -----------\n",
      "brio         0.371826\n",
      "ctrlsum      0.36131\n",
      "simcls       0.359992\n",
      "gsum         0.348765\n",
      "glob         0.340702\n",
      "gold         0.33799\n",
      "frost        0.336847\n",
      "matchsum     0.336829\n",
      "brio-ext     0.335767\n",
      "cliff        0.329551\n",
      "bart         0.323364\n",
      "pegasus      0.319942\n"
     ]
    }
   ],
   "source": [
    "systems = list(cnndm_test[0][\"annotations\"].keys())\n",
    "system_scores = [(system, np.mean([x[\"annotations\"][system][\"normalized_acu\"] for x in cnndm_test]).item()) for system in systems]\n",
    "system_scores = sorted(system_scores, key=lambda x: x[1], reverse=True)\n",
    "print(tabulate(system_scores, headers=[\"System\", \"ACU Score\"]))"
   ]
  },
  {
   "cell_type": "markdown",
   "metadata": {},
   "source": [
    "# Human Annotation with Four Different Protocols\n",
    "## Check available systems"
   ]
  },
  {
   "cell_type": "code",
   "execution_count": 13,
   "metadata": {},
   "outputs": [
    {
     "name": "stdout",
     "output_type": "stream",
     "text": [
      "dict_keys(['bart', 'gold', 'pegasus', 'brio', 'gsum', 'simcls', 'cliff', 'ctrlsum', 'frost', 'glob', 'matchsum', 'brio-ext'])\n"
     ]
    }
   ],
   "source": [
    "print(cnndm_protocol[0][\"annotations\"].keys())"
   ]
  },
  {
   "cell_type": "markdown",
   "metadata": {},
   "source": [
    "## Check available protocols"
   ]
  },
  {
   "cell_type": "code",
   "execution_count": 14,
   "metadata": {},
   "outputs": [
    {
     "name": "stdout",
     "output_type": "stream",
     "text": [
      "dict_keys(['prior', 'ref_based', 'ref_free', 'acu_labels', 'acu', 'normalized_acu'])\n"
     ]
    }
   ],
   "source": [
    "print(cnndm_protocol[0][\"annotations\"][\"brio\"].keys())"
   ]
  },
  {
   "cell_type": "markdown",
   "metadata": {},
   "source": [
    "## Check GPT-3 performance under different protocols"
   ]
  },
  {
   "cell_type": "code",
   "execution_count": 15,
   "metadata": {},
   "outputs": [
    {
     "name": "stdout",
     "output_type": "stream",
     "text": [
      "  prior    ref_based    ref_free       acu\n",
      "-------  -----------  ----------  --------\n",
      "3.72333         2.74     3.76333  0.268991\n"
     ]
    }
   ],
   "source": [
    "protocols = [\"prior\", \"ref_based\", \"ref_free\", \"acu\"]\n",
    "result = [np.mean([x[\"annotations\"][\"gpt3\"][p] for x in cnndm_protocol_gpt3]).item() for p in protocols]\n",
    "print(tabulate([result], headers=protocols))"
   ]
  },
  {
   "cell_type": "markdown",
   "metadata": {},
   "source": [
    "## Calculate *LLMs* performance under different protocols (with baseline fine-tuned models)"
   ]
  },
  {
   "cell_type": "code",
   "execution_count": 16,
   "metadata": {},
   "outputs": [
    {
     "name": "stdout",
     "output_type": "stream",
     "text": [
      "System      prior    ref_based    ref_free       acu\n",
      "--------  -------  -----------  ----------  --------\n",
      "gpt3      3.72333      2.74        3.76333  0.268991\n",
      "brio      3.51333      3.07333     3.49     0.429045\n",
      "t0        3.33333      2.84333     3.24333  0.294712\n",
      "bart      3.58333      2.92667     3.52333  0.36711\n"
     ]
    }
   ],
   "source": [
    "protocols = [\"prior\", \"ref_based\", \"ref_free\", \"acu\"]\n",
    "systems = [\"gpt3\", \"brio\", \"t0\", \"bart\"]\n",
    "result = [[s]+ [np.mean([x[\"annotations\"][s][p] for x in cnndm_protocol_gpt3]).item() for p in protocols] for s in systems]\n",
    "print(tabulate(result, headers=[\"System\"]+protocols))"
   ]
  },
  {
   "cell_type": "markdown",
   "metadata": {},
   "source": [
    "## Calculate *fine-tuned* system performance under different protocols"
   ]
  },
  {
   "cell_type": "code",
   "execution_count": 17,
   "metadata": {},
   "outputs": [
    {
     "name": "stdout",
     "output_type": "stream",
     "text": [
      "System      prior    ref_based    ref_free       acu\n",
      "--------  -------  -----------  ----------  --------\n",
      "bart         3.12         2.47        3.4   0.36711\n",
      "gold         2.74         2.52        2.98  0.370999\n",
      "pegasus      2.74         2.44        2.99  0.378522\n",
      "brio         3.09         2.52        3.29  0.429045\n",
      "gsum         3.3          2.54        3.53  0.432917\n",
      "simcls       2.93         2.53        3.18  0.397583\n",
      "cliff        2.92         2.49        3.3   0.393997\n",
      "ctrlsum      3.3          2.56        3.26  0.451103\n",
      "frost        2.79         2.58        2.96  0.404047\n",
      "glob         2.79         2.55        2.91  0.349981\n",
      "matchsum     3.05         2.36        3.38  0.396766\n",
      "brio-ext     3.1          2.38        3.31  0.370685\n"
     ]
    }
   ],
   "source": [
    "protocols = [\"prior\", \"ref_based\", \"ref_free\", \"acu\"]\n",
    "systems = list(cnndm_protocol[0][\"annotations\"].keys())\n",
    "result = [[s]+ [np.mean([x[\"annotations\"][s][p] for x in cnndm_protocol]).item() for p in protocols] for s in systems]\n",
    "print(tabulate(result, headers=[\"System\"]+protocols))"
   ]
  }
 ],
 "metadata": {
  "kernelspec": {
   "display_name": "Python 3.8.13",
   "language": "python",
   "name": "python3"
  },
  "language_info": {
   "codemirror_mode": {
    "name": "ipython",
    "version": 3
   },
   "file_extension": ".py",
   "mimetype": "text/x-python",
   "name": "python",
   "nbconvert_exporter": "python",
   "pygments_lexer": "ipython3",
   "version": "3.8.15"
  },
  "orig_nbformat": 4,
  "vscode": {
   "interpreter": {
    "hash": "d7b4bcbf811fc4a457764a5f588308179c6b9c0f4014dfbd06b360129055ca21"
   }
  }
 },
 "nbformat": 4,
 "nbformat_minor": 2
}
